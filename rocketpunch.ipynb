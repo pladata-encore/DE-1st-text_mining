{
 "cells": [
  {
   "cell_type": "code",
   "execution_count": 1,
   "metadata": {},
   "outputs": [],
   "source": [
    "import pickle\n",
    "import pandas as pd\n",
    "import re\n",
    "import datetime\n",
    "import warnings"
   ]
  },
  {
   "cell_type": "code",
   "execution_count": 5,
   "metadata": {},
   "outputs": [],
   "source": [
    "with open(\"./data/rocketpunch_full.pkl\",\"rb\") as f:\n",
    "    rocket_punch=pickle.load(f)"
   ]
  },
  {
   "cell_type": "code",
   "execution_count": 40,
   "metadata": {},
   "outputs": [
    {
     "data": {
      "text/plain": [
       "Index(['company_id', 'company_name', 'description', 'job_id', 'job_title',\n",
       "       'job_info', 'job_date', '@context', '@type', 'datePosted',\n",
       "       'description', 'hiringOrganization', 'title', 'url', 'jobLocation',\n",
       "       'employmentType', 'experienceRequirements', 'occupationalCategory',\n",
       "       'requirement', 'specialties', 'validThrough', 'baseSalary',\n",
       "       'jobLocationType'],\n",
       "      dtype='object')"
      ]
     },
     "execution_count": 40,
     "metadata": {},
     "output_type": "execute_result"
    }
   ],
   "source": [
    "rocket_punch.columns \n",
    "#description 이름이 같은 중복 컬럼 2개 존재"
   ]
  },
  {
   "cell_type": "code",
   "execution_count": 6,
   "metadata": {},
   "outputs": [],
   "source": [
    "# 중복 컬럼 이름 변경\n",
    "columns = rocket_punch.columns.tolist()\n",
    "last_index = len(columns) - 1 - columns[::-1].index('description')\n",
    "columns[last_index] = 'description2'  \n",
    "\n",
    "# 변경된 칼럼 리스트를 다시 DataFrame에 할당\n",
    "rocket_punch.columns = columns"
   ]
  },
  {
   "cell_type": "code",
   "execution_count": 15,
   "metadata": {},
   "outputs": [],
   "source": [
    "# 필요 컬럼만 추출\n",
    "filter_rocket_punch = rocket_punch[['company_name', 'job_title', 'experienceRequirements', 'job_date', 'specialties', 'description2', 'description' , 'requirement']]"
   ]
  },
  {
   "cell_type": "code",
   "execution_count": 16,
   "metadata": {},
   "outputs": [],
   "source": [
    "#null 값 찾기\n",
    "for i in filter_rocket_punch.iterrows():\n",
    "    if i is None:\n",
    "        print(i)\n",
    "    else:\n",
    "        pass\n"
   ]
  },
  {
   "cell_type": "code",
   "execution_count": 17,
   "metadata": {},
   "outputs": [],
   "source": [
    "# 컬럼 이름 변경\n",
    "filter_rocket_punch.columns = [\"company_name\", \\\n",
    "\"title\", \\\n",
    "\"career_raw\", \\\n",
    "\"date_raw\", \\\n",
    "\"tech_stack\", \\\n",
    "\"description\", \\\n",
    "\"company_description\", \n",
    "\"required\"    \n",
    "    ]"
   ]
  },
  {
   "cell_type": "code",
   "execution_count": 18,
   "metadata": {},
   "outputs": [
    {
     "data": {
      "text/plain": [
       "Index(['company_name', 'title', 'career_raw', 'date_raw', 'tech_stack',\n",
       "       'description', 'company_description', 'required'],\n",
       "      dtype='object')"
      ]
     },
     "execution_count": 18,
     "metadata": {},
     "output_type": "execute_result"
    }
   ],
   "source": [
    "filter_rocket_punch.columns # 총 컬럼 수 : 9"
   ]
  },
  {
   "cell_type": "code",
   "execution_count": null,
   "metadata": {},
   "outputs": [],
   "source": [
    "#filter_rocket_punch.head(20)"
   ]
  },
  {
   "cell_type": "code",
   "execution_count": 19,
   "metadata": {},
   "outputs": [
    {
     "name": "stderr",
     "output_type": "stream",
     "text": [
      "/tmp/ipykernel_1650/3678245174.py:5: SettingWithCopyWarning: \n",
      "A value is trying to be set on a copy of a slice from a DataFrame.\n",
      "Try using .loc[row_indexer,col_indexer] = value instead\n",
      "\n",
      "See the caveats in the documentation: https://pandas.pydata.org/pandas-docs/stable/user_guide/indexing.html#returning-a-view-versus-a-copy\n",
      "  filter_rocket_punch.loc[idx, 'date'] = '9999-12-30'\n"
     ]
    }
   ],
   "source": [
    "# 각 행을 확인하고 조건에 따라 'date' 열 설정\n",
    "for idx, dr in enumerate(filter_rocket_punch['date_raw']):\n",
    "    # 수시채용은 9999-12-30\n",
    "    if \"수시채용\" in dr:\n",
    "        filter_rocket_punch.loc[idx, 'date'] = '9999-12-30'\n",
    "    # 일시채용 : mm/dd 마감 > 2024-mm-dd로 변경\n",
    "    else:\n",
    "        mmdd = dr.split()[0].split('/')[0:2]\n",
    "        filter_rocket_punch.loc[idx, 'date'] = f\"2024-{mmdd[0]}-{mmdd[1]}\"\n"
   ]
  },
  {
   "cell_type": "code",
   "execution_count": null,
   "metadata": {},
   "outputs": [],
   "source": [
    "#display(filter_rocket_punch['date'])"
   ]
  },
  {
   "cell_type": "code",
   "execution_count": 49,
   "metadata": {},
   "outputs": [
    {
     "data": {
      "text/plain": [
       "career_raw\n",
       "[경력]        198\n",
       "[신입, 경력]     72\n",
       "[신입]          8\n",
       "Name: count, dtype: int64"
      ]
     },
     "execution_count": 49,
     "metadata": {},
     "output_type": "execute_result"
    }
   ],
   "source": [
    "#filter_rocket_punch['career_raw'].value_counts() "
   ]
  },
  {
   "cell_type": "code",
   "execution_count": 20,
   "metadata": {},
   "outputs": [
    {
     "name": "stderr",
     "output_type": "stream",
     "text": [
      "/tmp/ipykernel_1650/681031454.py:2: SettingWithCopyWarning: \n",
      "A value is trying to be set on a copy of a slice from a DataFrame.\n",
      "Try using .loc[row_indexer,col_indexer] = value instead\n",
      "\n",
      "See the caveats in the documentation: https://pandas.pydata.org/pandas-docs/stable/user_guide/indexing.html#returning-a-view-versus-a-copy\n",
      "  filter_rocket_punch['career'] = filter_rocket_punch['career_raw'].apply(lambda x : 0 if '신입' in x else 1)\n"
     ]
    }
   ],
   "source": [
    "# 경력 1, 신입0. 칼럼에 두 값이 모두 있을 경우, 신입\n",
    "filter_rocket_punch['career'] = filter_rocket_punch['career_raw'].apply(lambda x : 0 if '신입' in x else 1)"
   ]
  },
  {
   "cell_type": "code",
   "execution_count": 21,
   "metadata": {},
   "outputs": [
    {
     "name": "stderr",
     "output_type": "stream",
     "text": [
      "/tmp/ipykernel_1650/122210433.py:2: SettingWithCopyWarning: \n",
      "A value is trying to be set on a copy of a slice from a DataFrame.\n",
      "Try using .loc[row_indexer,col_indexer] = value instead\n",
      "\n",
      "See the caveats in the documentation: https://pandas.pydata.org/pandas-docs/stable/user_guide/indexing.html#returning-a-view-versus-a-copy\n",
      "  filter_rocket_punch['job_site_code'] = 4\n"
     ]
    }
   ],
   "source": [
    "# job_site_code 추가\n",
    "filter_rocket_punch['job_site_code'] = 4"
   ]
  },
  {
   "cell_type": "code",
   "execution_count": 22,
   "metadata": {},
   "outputs": [
    {
     "data": {
      "text/html": [
       "<div>\n",
       "<style scoped>\n",
       "    .dataframe tbody tr th:only-of-type {\n",
       "        vertical-align: middle;\n",
       "    }\n",
       "\n",
       "    .dataframe tbody tr th {\n",
       "        vertical-align: top;\n",
       "    }\n",
       "\n",
       "    .dataframe thead th {\n",
       "        text-align: right;\n",
       "    }\n",
       "</style>\n",
       "<table border=\"1\" class=\"dataframe\">\n",
       "  <thead>\n",
       "    <tr style=\"text-align: right;\">\n",
       "      <th></th>\n",
       "      <th>company_name</th>\n",
       "      <th>title</th>\n",
       "      <th>career_raw</th>\n",
       "      <th>date_raw</th>\n",
       "      <th>tech_stack</th>\n",
       "      <th>description</th>\n",
       "      <th>company_description</th>\n",
       "      <th>required</th>\n",
       "      <th>date</th>\n",
       "      <th>career</th>\n",
       "      <th>job_site_code</th>\n",
       "    </tr>\n",
       "  </thead>\n",
       "  <tbody>\n",
       "    <tr>\n",
       "      <th>0</th>\n",
       "      <td>(주)휴가중</td>\n",
       "      <td>[온베케이션] 프론트엔드 웹 개발자 (React)</td>\n",
       "      <td>[경력]</td>\n",
       "      <td>수시채용</td>\n",
       "      <td>[프론트엔드 개발, Git, Amazon Web Services]</td>\n",
       "      <td>온베케이션은 스타트업의 기발함과 여행업의 설렘으로 새로운 가치를 만들어 나갑니다.&lt;...</td>\n",
       "      <td>Travel Tech 를 영역에서 다양한 혁신 시도를 통해 더 많은 여행자들의 감동...</td>\n",
       "      <td>[ 주요 업무 ]• React/Next.js 기반의 백오피스 개발• 서비스 운영 이...</td>\n",
       "      <td>9999-12-30</td>\n",
       "      <td>1</td>\n",
       "      <td>4</td>\n",
       "    </tr>\n",
       "    <tr>\n",
       "      <th>1</th>\n",
       "      <td>(주)휴가중</td>\n",
       "      <td>[온베케이션] Flutter Mobile App Developer</td>\n",
       "      <td>[신입, 경력]</td>\n",
       "      <td>수시채용</td>\n",
       "      <td>[GitHub, android, Django, iOS, Java, Kotlin, P...</td>\n",
       "      <td>온베케이션은 스타트업의 기발함과 여행업의 설렘으로 새로운 가치를 만들어 나갑니다.&lt;...</td>\n",
       "      <td>Travel Tech 를 영역에서 다양한 혁신 시도를 통해 더 많은 여행자들의 감동...</td>\n",
       "      <td>[ 주요 업무 ]• Flutter 기반의 신규 앱 개발 및 운영• 빌드/배포/테스트...</td>\n",
       "      <td>9999-12-30</td>\n",
       "      <td>0</td>\n",
       "      <td>4</td>\n",
       "    </tr>\n",
       "    <tr>\n",
       "      <th>2</th>\n",
       "      <td>(주)휴가중</td>\n",
       "      <td>[온베케이션] React Native Mobile App Developer</td>\n",
       "      <td>[신입, 경력]</td>\n",
       "      <td>수시채용</td>\n",
       "      <td>[Git, android, iOS, Java, Python, SQL, TypeScr...</td>\n",
       "      <td>온베케이션은 스타트업의 기발함과 여행업의 설렘으로 새로운 가치를 만들어 나갑니다.&lt;...</td>\n",
       "      <td>Travel Tech 를 영역에서 다양한 혁신 시도를 통해 더 많은 여행자들의 감동...</td>\n",
       "      <td>[ 주요 업무 ]• React Native 기반의 신규 앱 개발 및 운영• 빌드/배...</td>\n",
       "      <td>9999-12-30</td>\n",
       "      <td>0</td>\n",
       "      <td>4</td>\n",
       "    </tr>\n",
       "    <tr>\n",
       "      <th>3</th>\n",
       "      <td>아우라</td>\n",
       "      <td>웹 프론트 엔지니어</td>\n",
       "      <td>[경력]</td>\n",
       "      <td>05/01 마감</td>\n",
       "      <td>[프론트엔드 개발, Git, GitLab, Flutter &amp; Dart, HTML, ...</td>\n",
       "      <td>AI 기반 블록체인 민팅 프로젝트 프론트 개발&lt;br /&gt;해외 시장을 대상으로 한 블...</td>\n",
       "      <td>피규어 및 굿즈 제작</td>\n",
       "      <td>[기본사항]- 새로운 기술 트렌드에 적극적:Flutter, React, Vue.js...</td>\n",
       "      <td>2024-05-01</td>\n",
       "      <td>1</td>\n",
       "      <td>4</td>\n",
       "    </tr>\n",
       "    <tr>\n",
       "      <th>4</th>\n",
       "      <td>슬로우 플랫폼</td>\n",
       "      <td>모바일 SW 개발자</td>\n",
       "      <td>[신입, 경력]</td>\n",
       "      <td>수시채용</td>\n",
       "      <td>[안드로이드, Java, Kotlin, Flutter &amp; Dart, MVVM, Cl...</td>\n",
       "      <td>- 스마트에이징의 새로운 길을 여는 슬로우 서비스를 앞에서 이끌어갈 모바일 애플리케...</td>\n",
       "      <td>시니어를 위한 스마트 에이징 플랫폼</td>\n",
       "      <td>슬로우플랫폼은 'SlowTalk'이라는 세대공감 플랫폼 서비스를 준비 중입니다. 이...</td>\n",
       "      <td>9999-12-30</td>\n",
       "      <td>0</td>\n",
       "      <td>4</td>\n",
       "    </tr>\n",
       "  </tbody>\n",
       "</table>\n",
       "</div>"
      ],
      "text/plain": [
       "  company_name                                      title career_raw  \\\n",
       "0       (주)휴가중                [온베케이션] 프론트엔드 웹 개발자 (React)       [경력]   \n",
       "1       (주)휴가중       [온베케이션] Flutter Mobile App Developer   [신입, 경력]   \n",
       "2       (주)휴가중  [온베케이션] React Native Mobile App Developer   [신입, 경력]   \n",
       "3          아우라                                 웹 프론트 엔지니어       [경력]   \n",
       "4      슬로우 플랫폼                                 모바일 SW 개발자   [신입, 경력]   \n",
       "\n",
       "   date_raw                                         tech_stack  \\\n",
       "0      수시채용               [프론트엔드 개발, Git, Amazon Web Services]   \n",
       "1      수시채용  [GitHub, android, Django, iOS, Java, Kotlin, P...   \n",
       "2      수시채용  [Git, android, iOS, Java, Python, SQL, TypeScr...   \n",
       "3  05/01 마감  [프론트엔드 개발, Git, GitLab, Flutter & Dart, HTML, ...   \n",
       "4      수시채용  [안드로이드, Java, Kotlin, Flutter & Dart, MVVM, Cl...   \n",
       "\n",
       "                                         description  \\\n",
       "0  온베케이션은 스타트업의 기발함과 여행업의 설렘으로 새로운 가치를 만들어 나갑니다.<...   \n",
       "1  온베케이션은 스타트업의 기발함과 여행업의 설렘으로 새로운 가치를 만들어 나갑니다.<...   \n",
       "2  온베케이션은 스타트업의 기발함과 여행업의 설렘으로 새로운 가치를 만들어 나갑니다.<...   \n",
       "3  AI 기반 블록체인 민팅 프로젝트 프론트 개발<br />해외 시장을 대상으로 한 블...   \n",
       "4  - 스마트에이징의 새로운 길을 여는 슬로우 서비스를 앞에서 이끌어갈 모바일 애플리케...   \n",
       "\n",
       "                                 company_description  \\\n",
       "0  Travel Tech 를 영역에서 다양한 혁신 시도를 통해 더 많은 여행자들의 감동...   \n",
       "1  Travel Tech 를 영역에서 다양한 혁신 시도를 통해 더 많은 여행자들의 감동...   \n",
       "2  Travel Tech 를 영역에서 다양한 혁신 시도를 통해 더 많은 여행자들의 감동...   \n",
       "3                                        피규어 및 굿즈 제작   \n",
       "4                                시니어를 위한 스마트 에이징 플랫폼   \n",
       "\n",
       "                                            required        date  career  \\\n",
       "0  [ 주요 업무 ]• React/Next.js 기반의 백오피스 개발• 서비스 운영 이...  9999-12-30       1   \n",
       "1  [ 주요 업무 ]• Flutter 기반의 신규 앱 개발 및 운영• 빌드/배포/테스트...  9999-12-30       0   \n",
       "2  [ 주요 업무 ]• React Native 기반의 신규 앱 개발 및 운영• 빌드/배...  9999-12-30       0   \n",
       "3  [기본사항]- 새로운 기술 트렌드에 적극적:Flutter, React, Vue.js...  2024-05-01       1   \n",
       "4  슬로우플랫폼은 'SlowTalk'이라는 세대공감 플랫폼 서비스를 준비 중입니다. 이...  9999-12-30       0   \n",
       "\n",
       "   job_site_code  \n",
       "0              4  \n",
       "1              4  \n",
       "2              4  \n",
       "3              4  \n",
       "4              4  "
      ]
     },
     "execution_count": 22,
     "metadata": {},
     "output_type": "execute_result"
    }
   ],
   "source": [
    "filter_rocket_punch.head()"
   ]
  },
  {
   "cell_type": "code",
   "execution_count": 23,
   "metadata": {},
   "outputs": [],
   "source": [
    "# 불필요한 열 제거\n",
    "filter_rocket_punch = filter_rocket_punch.drop([\"career_raw\", \"date_raw\"], axis=1)"
   ]
  },
  {
   "cell_type": "code",
   "execution_count": null,
   "metadata": {},
   "outputs": [],
   "source": [
    "#filter_rocket_punch.head()"
   ]
  },
  {
   "cell_type": "code",
   "execution_count": 28,
   "metadata": {},
   "outputs": [],
   "source": [
    "# 특수문자 제거\n",
    "for col in ['required', 'company_description', 'description', 'title']: \n",
    "    filter_rocket_punch[col]=filter_rocket_punch[col].apply(lambda x : x.encode('cp949', 'ignore').decode('cp949') )"
   ]
  },
  {
   "cell_type": "code",
   "execution_count": 29,
   "metadata": {},
   "outputs": [],
   "source": [
    "# pickle 저장\n",
    "with open(\"./data/filter_rocketpunch.pkl\", \"wb\") as f:\n",
    "    pickle.dump(filter_rocket_punch, f)"
   ]
  },
  {
   "cell_type": "markdown",
   "metadata": {},
   "source": [
    "data to DB insert"
   ]
  },
  {
   "cell_type": "code",
   "execution_count": 32,
   "metadata": {},
   "outputs": [],
   "source": [
    "import pymysql\n",
    "import pickle\n",
    "import os\n",
    "from dotenv import load_dotenv"
   ]
  },
  {
   "cell_type": "code",
   "execution_count": 30,
   "metadata": {},
   "outputs": [],
   "source": [
    "# pickle 가져오기\n",
    "with open(\"./data/filter_rocketpunch.pkl\", \"rb\") as f:\n",
    "    filter_rocketpunch = pickle.load(f)"
   ]
  },
  {
   "cell_type": "code",
   "execution_count": 31,
   "metadata": {},
   "outputs": [
    {
     "data": {
      "text/plain": [
       "Index(['company_name', 'title', 'tech_stack', 'description',\n",
       "       'company_description', 'required', 'date', 'career', 'job_site_code'],\n",
       "      dtype='object')"
      ]
     },
     "execution_count": 31,
     "metadata": {},
     "output_type": "execute_result"
    }
   ],
   "source": [
    "filter_rocketpunch.columns"
   ]
  },
  {
   "cell_type": "code",
   "execution_count": 57,
   "metadata": {},
   "outputs": [],
   "source": [
    "# db에 넣기 위해 순서 변경\n",
    "new_order = [\n",
    "    'job_site_code', 'company_name', 'title', 'career', 'date', 'tech_stack', \n",
    "    'description', 'company_description', 'required'\n",
    "]"
   ]
  },
  {
   "cell_type": "code",
   "execution_count": 58,
   "metadata": {},
   "outputs": [],
   "source": [
    "filter_rocketpunch=filter_rocketpunch[new_order]"
   ]
  },
  {
   "cell_type": "code",
   "execution_count": null,
   "metadata": {},
   "outputs": [],
   "source": [
    "#filter_rocketpunch.head(5)"
   ]
  },
  {
   "cell_type": "code",
   "execution_count": 3,
   "metadata": {},
   "outputs": [],
   "source": [
    "host = os.getenv(\"MYSQL_HOST\")\n",
    "user = os.getenv(\"MYSQL_USER\")\n",
    "password = os.getenv(\"MYSQL_PASSWORD\")\n",
    "port = os.getenv(\"MYSQL_PORT\")\n",
    "DB_NAME=\"encore2\"\n"
   ]
  },
  {
   "cell_type": "code",
   "execution_count": null,
   "metadata": {},
   "outputs": [],
   "source": [
    "#print(os.getenv('MYSQL_USER'))\n",
    "#print(os.getenv('MYSQL_PASSWORD'))"
   ]
  },
  {
   "cell_type": "code",
   "execution_count": 71,
   "metadata": {},
   "outputs": [],
   "source": [
    "conn = pymysql.connect(host=host, user=user, password=password, db=DB_NAME, port=port,charset='utf8')\n",
    "sql=\"\"\"\n",
    "INSERT INTO job_data (job_site_code, company_name, title, career, date_until, tech_stack, description, company_description, required)\n",
    "VALUES (%s, %s, %s, %s, %s, %s, %s, %s, %s)\n",
    "\"\"\"\n",
    "cursor = conn.cursor(pymysql.cursors.DictCursor)"
   ]
  },
  {
   "cell_type": "code",
   "execution_count": 81,
   "metadata": {},
   "outputs": [
    {
     "name": "stdout",
     "output_type": "stream",
     "text": [
      "Error: (1366, \"Incorrect string value: '\\\\xF0\\\\x9F\\\\x8D\\\\x80' for column 'title' at row 1\")\n",
      "This error is related to the character encoding issue.\n",
      "React-Native Developer 개발자 기다려요'-'🍀\n"
     ]
    }
   ],
   "source": [
    "for idx, row in filter_rocketpunch.iterrows():\n",
    "    try:\n",
    "        if len(row['tech_stack']) < 300:\n",
    "            data_tuple = (row['job_site_code'], row['company_name'], row['title'], row['career'],\n",
    "                          row['date'], row['tech_stack'], row['description'], \n",
    "                          row['company_description'], row['required'])  # Assuming 'company_description' was intended here\n",
    "            cursor.execute(sql, data_tuple)\n",
    "    except Exception as e:  \n",
    "        print(f\"Error: {e}\")  \n",
    "        if len(row['tech_stack']) > 300: # varchar(300)이 넘는 이슈, 제외\n",
    "            #print(idx) \n",
    "            pass"
   ]
  },
  {
   "cell_type": "code",
   "execution_count": 73,
   "metadata": {},
   "outputs": [
    {
     "data": {
      "text/plain": [
       "'GitHub, android, Django, iOS, Java, Kotlin, Python, SQL, TypeScript, AWS, 웹 프론트엔드 개발(HTML5/CSS3/JavaScript/Vue.js), 프론트엔드 개발'"
      ]
     },
     "execution_count": 73,
     "metadata": {},
     "output_type": "execute_result"
    }
   ],
   "source": [
    "#filter_rocketpunch.iloc[1]['tech_stack']"
   ]
  },
  {
   "cell_type": "code",
   "execution_count": null,
   "metadata": {},
   "outputs": [],
   "source": []
  }
 ],
 "metadata": {
  "kernelspec": {
   "display_name": "Python 3",
   "language": "python",
   "name": "python3"
  },
  "language_info": {
   "codemirror_mode": {
    "name": "ipython",
    "version": 3
   },
   "file_extension": ".py",
   "mimetype": "text/x-python",
   "name": "python",
   "nbconvert_exporter": "python",
   "pygments_lexer": "ipython3",
   "version": "3.10.12"
  }
 },
 "nbformat": 4,
 "nbformat_minor": 2
}
